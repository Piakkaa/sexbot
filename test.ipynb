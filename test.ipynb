{
 "cells": [
  {
   "cell_type": "code",
   "execution_count": 28,
   "metadata": {},
   "outputs": [],
   "source": [
    "import json, requests"
   ]
  },
  {
   "cell_type": "code",
   "execution_count": 2,
   "metadata": {},
   "outputs": [],
   "source": [
    "lineObject = {\n",
    "  \"destination\": \"xxxxxxxxxx\",\n",
    "  \"events\": [\n",
    "    {\n",
    "      \"replyToken\": \"0f3779fba3b349968c5d07db31eab56f\",\n",
    "      \"type\": \"message\",\n",
    "      \"mode\": \"active\",\n",
    "      \"timestamp\": 1462629479859,\n",
    "      \"source\": {\n",
    "        \"type\": \"user\",\n",
    "        \"userId\": \"U4af4980629...\"\n",
    "      },\n",
    "      \"message\": {\n",
    "        \"id\": \"325708\",\n",
    "        \"type\": \"text\",\n",
    "        \"text\": \"Hello, world\"\n",
    "      }\n",
    "    },\n",
    "    {\n",
    "      \"replyToken\": \"8cf9239d56244f4197887e939187e19e\",\n",
    "      \"type\": \"follow\",\n",
    "      \"mode\": \"active\",\n",
    "      \"timestamp\": 1462629479859,\n",
    "      \"source\": {\n",
    "        \"type\": \"user\",\n",
    "        \"userId\": \"U4af4980629...\"\n",
    "      }\n",
    "    }\n",
    "  ]\n",
    "}"
   ]
  },
  {
   "cell_type": "code",
   "execution_count": 3,
   "metadata": {},
   "outputs": [],
   "source": [
    "event = {\n",
    "    \"body\": json.dumps(lineObject)\n",
    "}"
   ]
  },
  {
   "cell_type": "code",
   "execution_count": 21,
   "metadata": {},
   "outputs": [
    {
     "data": {
      "text/plain": [
       "'0f3779fba3b349968c5d07db31eab56f'"
      ]
     },
     "execution_count": 21,
     "metadata": {},
     "output_type": "execute_result"
    }
   ],
   "source": [
    "json.loads(event[\"body\"])[\"events\"][0][\"replyToken\"]"
   ]
  },
  {
   "cell_type": "code",
   "execution_count": 35,
   "metadata": {},
   "outputs": [],
   "source": [
    "def lambda_handler(event, context):\n",
    "    atoken = 'SnRC+KeJsfgJ6ZA+oXN13GfE1HMQ4MdDVNpRGXG53XLk4Eb2Q5mAza6qxXtmMfeT68CfAa1IycqgLPfqMQvGWi1H8bMDBHI1pKcc5fTdyUBQP6h7T/+JjF+1/Ij3T1O8cll/8ToWDC85xMQsqwSVeQdB04t89/1O/w1cDnyilFU='\n",
    "    token = json.loads(event[\"body\"])[\"events\"][0][\"replyToken\"]\n",
    "    postToLine(atoken, token, \"xxxxxx\")\n",
    "    \n",
    "\n",
    "    return "
   ]
  },
  {
   "cell_type": "code",
   "execution_count": 42,
   "metadata": {},
   "outputs": [
    {
     "name": "stdout",
     "output_type": "stream",
     "text": [
      "{'message': 'Invalid reply token'}\n"
     ]
    }
   ],
   "source": [
    "lambda_handler(event, '')"
   ]
  },
  {
   "cell_type": "code",
   "execution_count": 41,
   "metadata": {},
   "outputs": [],
   "source": [
    "def postToLine(atoken, token, text):\n",
    "    url = 'https://api.line.me/v2/bot/message/reply'\n",
    "    headers = {'Authorization': 'Bearer ' + atoken}\n",
    "    data = {\n",
    "        \"replyToken\": token,\n",
    "        \"messages\":[{\n",
    "            \"type\":\"text\",\n",
    "            \"text\": text \n",
    "        }]\n",
    "    }\n",
    "\n",
    "    print(requests.post(url, headers=headers, json=data).json())\n",
    "    return True\n"
   ]
  },
  {
   "cell_type": "code",
   "execution_count": null,
   "metadata": {},
   "outputs": [],
   "source": []
  }
 ],
 "metadata": {
  "kernelspec": {
   "display_name": "Python 3",
   "language": "python",
   "name": "python3"
  },
  "language_info": {
   "codemirror_mode": {
    "name": "ipython",
    "version": 3
   },
   "file_extension": ".py",
   "mimetype": "text/x-python",
   "name": "python",
   "nbconvert_exporter": "python",
   "pygments_lexer": "ipython3",
   "version": "3.8.5"
  }
 },
 "nbformat": 4,
 "nbformat_minor": 4
}
